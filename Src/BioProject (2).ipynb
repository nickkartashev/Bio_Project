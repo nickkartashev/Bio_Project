{
  "nbformat": 4,
  "nbformat_minor": 0,
  "metadata": {
    "colab": {
      "name": "BioProject.ipynb",
      "provenance": [],
      "collapsed_sections": []
    },
    "kernelspec": {
      "name": "python3",
      "display_name": "Python 3"
    },
    "language_info": {
      "name": "python"
    }
  },
  "cells": [
    {
      "cell_type": "code",
      "metadata": {
        "id": "5vKwYTjNeXAf"
      },
      "source": [
        ""
      ],
      "execution_count": null,
      "outputs": []
    },
    {
      "cell_type": "code",
      "metadata": {
        "id": "wxn8EcJWd2Qf"
      },
      "source": [
        "import pandas as pd"
      ],
      "execution_count": 10,
      "outputs": []
    },
    {
      "cell_type": "code",
      "metadata": {
        "colab": {
          "base_uri": "https://localhost:8080/"
        },
        "id": "XHMvsUsreq9r",
        "outputId": "e7b5d963-9d21-4796-faab-c512db0a5ed0"
      },
      "source": [
        "!ls"
      ],
      "execution_count": 5,
      "outputs": [
        {
          "output_type": "stream",
          "text": [
            "Data  ENCFF724VHG.bed.gz  sample_data\n"
          ],
          "name": "stdout"
        }
      ]
    },
    {
      "cell_type": "code",
      "metadata": {
        "id": "aCLzo3tbeWlm"
      },
      "source": [
        "!mv ENCFF296PQE.bed.gz Data"
      ],
      "execution_count": 3,
      "outputs": []
    },
    {
      "cell_type": "code",
      "metadata": {
        "id": "P6F7lEC-enm8"
      },
      "source": [
        "!mv ENCFF724VHG.bed.gz Data"
      ],
      "execution_count": 6,
      "outputs": []
    },
    {
      "cell_type": "code",
      "metadata": {
        "id": "Ht6MOljCeqTk"
      },
      "source": [
        "!gunzip Data/ENCFF724VHG.bed.gz"
      ],
      "execution_count": 7,
      "outputs": []
    },
    {
      "cell_type": "code",
      "metadata": {
        "id": "KvucYdqle3bS"
      },
      "source": [
        "!gunzip Data/ENCFF296PQE.bed.gz"
      ],
      "execution_count": 8,
      "outputs": []
    },
    {
      "cell_type": "code",
      "metadata": {
        "colab": {
          "base_uri": "https://localhost:8080/"
        },
        "id": "MROS83fwe67j",
        "outputId": "3d2d3c94-d2e5-4eb5-98c8-212da7b611cf"
      },
      "source": [
        "!ls Data"
      ],
      "execution_count": 21,
      "outputs": [
        {
          "output_type": "stream",
          "text": [
            "ENCFF296PQE.bed  ENCFF724VHG.bed\n"
          ],
          "name": "stdout"
        }
      ]
    },
    {
      "cell_type": "code",
      "metadata": {
        "id": "ysRJV_kUe8MU"
      },
      "source": [
        "df_f = pd.read_csv('Data/ENCFF296PQE.bed', sep='\\t', header=None)"
      ],
      "execution_count": 24,
      "outputs": []
    },
    {
      "cell_type": "code",
      "metadata": {
        "id": "0EF63WkugFC5"
      },
      "source": [
        "df_s = pd.read_csv('Data/ENCFF724VHG.bed', sep='\\t', header=None)"
      ],
      "execution_count": 25,
      "outputs": []
    },
    {
      "cell_type": "code",
      "metadata": {
        "colab": {
          "base_uri": "https://localhost:8080/"
        },
        "id": "1XPIpFO5fN90",
        "outputId": "3a0f51e7-9734-4bfe-8c4e-4561721b287c"
      },
      "source": [
        "df_f[range(5)], df_s[range(5)]"
      ],
      "execution_count": 29,
      "outputs": [
        {
          "output_type": "execute_result",
          "data": {
            "text/plain": [
              "(          0          1          2           3    4\n",
              " 0      chr1  100315479  100316654   Peak_6302  152\n",
              " 1      chr1  100781764  100782449  Peak_43798   69\n",
              " 2      chr1  100889258  100891474  Peak_29264   82\n",
              " 3      chr1  101040071  101041577  Peak_28884   84\n",
              " 4      chr1  101472259  101472831  Peak_37034   73\n",
              " ...     ...        ...        ...         ...  ...\n",
              " 40398  chrY   26437111   26437446  Peak_16614  111\n",
              " 40399  chrY   26638035   26640544   Peak_2638  210\n",
              " 40400  chrY   26640580   26644741    Peak_560  361\n",
              " 40401  chrY   26649940   26650495   Peak_9574  132\n",
              " 40402  chrY   26651550   26656861    Peak_923  300\n",
              " \n",
              " [40403 rows x 5 columns],           0          1          2            3    4\n",
              " 0      chr1  100319901  100320547   Peak_51601   61\n",
              " 1      chr1  100649682  100650001   Peak_12718   90\n",
              " 2      chr1  100889546  100890307  Peak_181126   28\n",
              " 3      chr1  101040119  101040991   Peak_24771   77\n",
              " 4      chr1  101041497  101041806   Peak_58293   57\n",
              " ...     ...        ...        ...          ...  ...\n",
              " 51352  chrY   10683848   10684217    Peak_3299  120\n",
              " 51353  chrY   10976919   10977132   Peak_12941   89\n",
              " 51354  chrY   11110631   11110995   Peak_48965   64\n",
              " 51355  chrY   11115854   11116071   Peak_49355   63\n",
              " 51356  chrY   11659807   11660206   Peak_19635   80\n",
              " \n",
              " [51357 rows x 5 columns])"
            ]
          },
          "metadata": {
            "tags": []
          },
          "execution_count": 29
        }
      ]
    },
    {
      "cell_type": "code",
      "metadata": {
        "id": "d23WMStSfOSU"
      },
      "source": [
        "import matplotlib.pyplot as plt\n",
        "from matplotlib.backends.backend_pdf import PdfPages"
      ],
      "execution_count": 35,
      "outputs": []
    },
    {
      "cell_type": "code",
      "metadata": {
        "colab": {
          "base_uri": "https://localhost:8080/",
          "height": 313
        },
        "id": "6Qm8vx8DgJmt",
        "outputId": "a2dc97c9-c9d4-4822-bc16-a3ba2d478f2c"
      },
      "source": [
        "figure = plt.figure()\n",
        "axes = figure.subplots()\n",
        "\n",
        "axes.hist(df_s[2] - df_s[1], bins=200)\n",
        "axes.set_xlabel('Len')\n",
        "axes.set_title('Distribution of lens of peaks')\n",
        "pdf = PdfPages(\"Hist_ENCFF724VHG.pdf\")\n",
        "pdf.savefig(figure)\n",
        "pdf.close()\n",
        "\n",
        "print(len(df_s))"
      ],
      "execution_count": 42,
      "outputs": [
        {
          "output_type": "stream",
          "text": [
            "51357\n"
          ],
          "name": "stdout"
        },
        {
          "output_type": "display_data",
          "data": {
            "image/png": "[encoded data removed]",
            "text/plain": [
              "<Figure size 432x288 with 1 Axes>"
            ]
          },
          "metadata": {
            "tags": [],
            "needs_background": "light"
          }
        }
      ]
    },
    {
      "cell_type": "code",
      "metadata": {
        "colab": {
          "base_uri": "https://localhost:8080/",
          "height": 313
        },
        "id": "kwVPZ85ajPLq",
        "outputId": "72c10460-2f6c-459c-c9db-434fcba6fa92"
      },
      "source": [
        "figure = plt.figure()\n",
        "axes = figure.subplots()\n",
        "\n",
        "axes.hist(df_f[2] - df_f[1], bins=200)\n",
        "axes.set_xlabel('Len')\n",
        "axes.set_title('Distribution of lens of peaks')\n",
        "pdf = PdfPages(\"Hist_ENCFF296PQE.pdf\")\n",
        "pdf.savefig(figure)\n",
        "pdf.close()\n",
        "\n",
        "print(len(df_f))"
      ],
      "execution_count": 43,
      "outputs": [
        {
          "output_type": "stream",
          "text": [
            "40403\n"
          ],
          "name": "stdout"
        },
        {
          "output_type": "display_data",
          "data": {
            "image/png": "[encoded data removed]",
            "text/plain": [
              "<Figure size 432x288 with 1 Axes>"
            ]
          },
          "metadata": {
            "tags": [],
            "needs_background": "light"
          }
        }
      ]
    },
    {
      "cell_type": "code",
      "metadata": {
        "id": "rmc6uA4Qkf9F"
      },
      "source": [
        "threshold = 5000"
      ],
      "execution_count": null,
      "outputs": []
    },
    {
      "cell_type": "code",
      "metadata": {
        "id": "Qmd92j_Uk8mp"
      },
      "source": [
        "df_s_filtered = df_s[(df_s[2] - df_s[1]) < 5000]\n",
        "df_f_filtered = df_f[(df_f[2] - df_f[1]) < 5000]"
      ],
      "execution_count": 44,
      "outputs": []
    },
    {
      "cell_type": "code",
      "metadata": {
        "id": "0ZQDVbmTlKxJ"
      },
      "source": [
        "df_s_filtered[range(5)].to_csv('Data/ENCFF724VHG.filtered.bed', header=False, index=False, sep='\\t')\n",
        "df_f_filtered[range(5)].to_csv('Data/ENCFF296PQE.filtered.bed', header=False, index=False, sep='\\t')\n"
      ],
      "execution_count": 103,
      "outputs": []
    },
    {
      "cell_type": "code",
      "metadata": {
        "colab": {
          "base_uri": "https://localhost:8080/",
          "height": 313
        },
        "id": "HtQK3QPKpf45",
        "outputId": "c0ca1a40-cb28-41eb-c5a0-fbb471862076"
      },
      "source": [
        "figure = plt.figure()\n",
        "axes = figure.subplots()\n",
        "\n",
        "axes.hist(df_s_filtered[2] - df_s_filtered[1], bins=200)\n",
        "axes.set_xlabel('Len')\n",
        "axes.set_title('Distribution of lens of peaks')\n",
        "pdf = PdfPages(\"Hist_ENCFF724VHG_filtered.pdf\")\n",
        "pdf.savefig(figure)\n",
        "pdf.close()\n",
        "\n",
        "print(len(df_s_filtered))"
      ],
      "execution_count": 49,
      "outputs": [
        {
          "output_type": "stream",
          "text": [
            "51342\n"
          ],
          "name": "stdout"
        },
        {
          "output_type": "display_data",
          "data": {
            "image/png": "[encoded data removed]",
            "text/plain": [
              "<Figure size 432x288 with 1 Axes>"
            ]
          },
          "metadata": {
            "tags": [],
            "needs_background": "light"
          }
        }
      ]
    },
    {
      "cell_type": "code",
      "metadata": {
        "colab": {
          "base_uri": "https://localhost:8080/"
        },
        "id": "yfSWNRGr2yU-",
        "outputId": "c3f5bccc-99fd-4aa3-f85a-6e2f23f6542d"
      },
      "source": [
        "!apt-get install bedtools"
      ],
      "execution_count": 85,
      "outputs": [
        {
          "output_type": "stream",
          "text": [
            "Reading package lists... Done\n",
            "Building dependency tree       \n",
            "Reading state information... Done\n",
            "The following NEW packages will be installed:\n",
            "  bedtools\n",
            "0 upgraded, 1 newly installed, 0 to remove and 39 not upgraded.\n",
            "Need to get 577 kB of archives.\n",
            "After this operation, 2,040 kB of additional disk space will be used.\n",
            "Get:1 http://archive.ubuntu.com/ubuntu bionic/universe amd64 bedtools amd64 2.26.0+dfsg-5 [577 kB]\n",
            "Fetched 577 kB in 1s (621 kB/s)\n",
            "Selecting previously unselected package bedtools.\n",
            "(Reading database ... 160772 files and directories currently installed.)\n",
            "Preparing to unpack .../bedtools_2.26.0+dfsg-5_amd64.deb ...\n",
            "Unpacking bedtools (2.26.0+dfsg-5) ...\n",
            "Setting up bedtools (2.26.0+dfsg-5) ...\n"
          ],
          "name": "stdout"
        }
      ]
    },
    {
      "cell_type": "code",
      "metadata": {
        "id": "jFGvIsmq2XfV"
      },
      "source": [
        "!cat Data/*.filtered.bed | sort -k1,1 -k2,2n | bedtools merge > Data/H3K9me3_H9.merge.hg19.bed"
      ],
      "execution_count": 105,
      "outputs": []
    },
    {
      "cell_type": "code",
      "metadata": {
        "colab": {
          "base_uri": "https://localhost:8080/",
          "height": 313
        },
        "id": "NXQ6Y7dJpJLj",
        "outputId": "0e0729cd-42f5-4c00-e49c-09dc2f9fa0bf"
      },
      "source": [
        "figure = plt.figure()\n",
        "axes = figure.subplots()\n",
        "\n",
        "axes.hist(df_f_filtered[2] - df_f_filtered[1], bins=200)\n",
        "axes.set_xlabel('Len')\n",
        "axes.set_title('Distribution of lens of peaks')\n",
        "pdf = PdfPages(\"Hist_ENCFF296PQE_filtered.pdf\")\n",
        "pdf.savefig(figure)\n",
        "pdf.close()\n",
        "\n",
        "print(len(df_f_filtered))"
      ],
      "execution_count": 50,
      "outputs": [
        {
          "output_type": "stream",
          "text": [
            "39880\n"
          ],
          "name": "stdout"
        },
        {
          "output_type": "display_data",
          "data": {
            "image/png": "[encoded data removed]",
            "text/plain": [
              "<Figure size 432x288 with 1 Axes>"
            ]
          },
          "metadata": {
            "tags": [],
            "needs_background": "light"
          }
        }
      ]
    },
    {
      "cell_type": "code",
      "metadata": {
        "colab": {
          "base_uri": "https://localhost:8080/"
        },
        "id": "v8qROX3vh3-d",
        "outputId": "9926c35a-4fbc-4b31-c88d-833684ddb386"
      },
      "source": [
        "!pip install rpy2\n",
        "%reload_ext rpy2.ipython\n"
      ],
      "execution_count": 97,
      "outputs": [
        {
          "output_type": "stream",
          "text": [
            "Requirement already satisfied: rpy2 in /usr/local/lib/python3.7/dist-packages (3.4.4)\n",
            "Requirement already satisfied: tzlocal in /usr/local/lib/python3.7/dist-packages (from rpy2) (1.5.1)\n",
            "Requirement already satisfied: pytz in /usr/local/lib/python3.7/dist-packages (from rpy2) (2018.9)\n",
            "Requirement already satisfied: cffi>=1.10.0 in /usr/local/lib/python3.7/dist-packages (from rpy2) (1.14.5)\n",
            "Requirement already satisfied: jinja2 in /usr/local/lib/python3.7/dist-packages (from rpy2) (2.11.3)\n",
            "Requirement already satisfied: pycparser in /usr/local/lib/python3.7/dist-packages (from cffi>=1.10.0->rpy2) (2.20)\n",
            "Requirement already satisfied: MarkupSafe>=0.23 in /usr/local/lib/python3.7/dist-packages (from jinja2->rpy2) (2.0.1)\n"
          ],
          "name": "stdout"
        }
      ]
    },
    {
      "cell_type": "code",
      "metadata": {
        "colab": {
          "base_uri": "https://localhost:8080/"
        },
        "id": "A76I7cLUzIdw",
        "outputId": "8938fd65-22c9-4a3f-a03c-e7de1a7bf862"
      },
      "source": [
        "%%R\n",
        "BiocManager::install('org.Hs.eg.db')"
      ],
      "execution_count": 108,
      "outputs": [
        {
          "output_type": "stream",
          "text": [
            "R[write to console]: 'getOption(\"repos\")' replaces Bioconductor standard repositories, see\n",
            "'?repositories' for details\n",
            "\n",
            "replacement repositories:\n",
            "    CRAN: https://cran.rstudio.com\n",
            "\n",
            "\n",
            "R[write to console]: Bioconductor version 3.13 (BiocManager 1.30.15), R 4.1.0 (2021-05-18)\n",
            "\n",
            "R[write to console]: Installing package(s) 'org.Hs.eg.db'\n",
            "\n",
            "R[write to console]: trying URL 'https://bioconductor.org/packages/3.13/data/annotation/src/contrib/org.Hs.eg.db_3.13.0.tar.gz'\n",
            "\n",
            "R[write to console]: Content type 'application/x-gzip'\n",
            "R[write to console]:  length 83002050 bytes (79.2 MB)\n",
            "\n",
            "R[write to console]: =\n",
            "R[write to console]: =\n",
            "R[write to console]: =\n",
            "R[write to console]: =\n",
            "R[write to console]: =\n",
            "R[write to console]: =\n",
            "R[write to console]: =\n",
            "R[write to console]: =\n",
            "R[write to console]: =\n",
            "R[write to console]: =\n",
            "R[write to console]: =\n",
            "R[write to console]: =\n",
            "R[write to console]: =\n",
            "R[write to console]: =\n",
            "R[write to console]: =\n",
            "R[write to console]: =\n",
            "R[write to console]: =\n",
            "R[write to console]: =\n",
            "R[write to console]: =\n",
            "R[write to console]: =\n",
            "R[write to console]: =\n",
            "R[write to console]: =\n",
            "R[write to console]: =\n",
            "R[write to console]: =\n",
            "R[write to console]: =\n",
            "R[write to console]: =\n",
            "R[write to console]: =\n",
            "R[write to console]: =\n",
            "R[write to console]: =\n",
            "R[write to console]: =\n",
            "R[write to console]: =\n",
            "R[write to console]: =\n",
            "R[write to console]: =\n",
            "R[write to console]: =\n",
            "R[write to console]: =\n",
            "R[write to console]: =\n",
            "R[write to console]: =\n",
            "R[write to console]: =\n",
            "R[write to console]: =\n",
            "R[write to console]: =\n",
            "R[write to console]: =\n",
            "R[write to console]: =\n",
            "R[write to console]: =\n",
            "R[write to console]: =\n",
            "R[write to console]: =\n",
            "R[write to console]: =\n",
            "R[write to console]: =\n",
            "R[write to console]: =\n",
            "R[write to console]: =\n",
            "R[write to console]: =\n",
            "R[write to console]: \n",
            "\n",
            "R[write to console]: downloaded 79.2 MB\n",
            "\n",
            "\n",
            "R[write to console]: \n",
            "\n",
            "R[write to console]: \n",
            "R[write to console]: The downloaded source packages are in\n",
            "\t‘/tmp/RtmphhpCg9/downloaded_packages’\n",
            "R[write to console]: \n",
            "R[write to console]: \n",
            "\n"
          ],
          "name": "stderr"
        }
      ]
    },
    {
      "cell_type": "code",
      "metadata": {
        "colab": {
          "base_uri": "https://localhost:8080/"
        },
        "id": "T1qvXuGemLiM",
        "outputId": "68c195d7-c2b8-4fc8-bd16-6252f87b04d0"
      },
      "source": [
        "%%R\n",
        "install.packages(\"ChIPseeker\")\n",
        "\n",
        "library(ggplot2)\n",
        "library(dplyr)\n",
        "library(tidyr)   # replace_na\n",
        "library(tibble)  # column_to_rownames\n",
        "DATA_DIR <- 'Data/'\n",
        "library(ChIPseeker)\n",
        "library(TxDb.Hsapiens.UCSC.hg19.knownGene)\n",
        "#library(clusterProfiler)\n",
        "\n",
        "NAME <- 'ENCFF296PQE.filtered'\n",
        "BED_FN <- paste0(DATA_DIR, NAME, '.bed')\n",
        "\n",
        "###\n",
        "\n",
        "txdb <- TxDb.Hsapiens.UCSC.hg19.knownGene\n",
        "\n",
        "peakAnno <- annotatePeak(BED_FN, tssRegion=c(-3000, 3000), TxDb=txdb, annoDb=\"org.Hs.eg.db\")\n",
        "\n",
        "OUT_DIR <- 'Data/'\n",
        "#pdf(paste0(OUT_DIR, 'chip_seeker.', NAME, '.plotAnnoPie.pdf'))\n",
        "png(paste0(OUT_DIR, 'chip_seeker.', NAME, '.plotAnnoPie.png'))\n",
        "plotAnnoPie(peakAnno)\n",
        "dev.off()\n"
      ],
      "execution_count": 110,
      "outputs": [
        {
          "output_type": "stream",
          "text": [
            "R[write to console]: Installing package into ‘/usr/local/lib/R/site-library’\n",
            "(as ‘lib’ is unspecified)\n",
            "\n"
          ],
          "name": "stderr"
        },
        {
          "output_type": "stream",
          "text": [
            ">> loading peak file...\t\t\t\t 2021-06-09 02:49:54 PM \n",
            ">> preparing features information...\t\t 2021-06-09 02:49:54 PM \n",
            ">> identifying nearest features...\t\t 2021-06-09 02:49:54 PM \n",
            ">> calculating distance from peak to TSS...\t 2021-06-09 02:49:55 PM \n",
            ">> assigning genomic annotation...\t\t 2021-06-09 02:49:55 PM \n",
            ">> adding gene annotation...\t\t\t 2021-06-09 02:49:59 PM \n"
          ],
          "name": "stdout"
        },
        {
          "output_type": "stream",
          "text": [
            "R[write to console]: 'select()' returned 1:many mapping between keys and columns\n",
            "\n"
          ],
          "name": "stderr"
        },
        {
          "output_type": "stream",
          "text": [
            ">> assigning chromosome lengths\t\t\t 2021-06-09 02:49:59 PM \n",
            ">> done...\t\t\t\t\t 2021-06-09 02:49:59 PM \n",
            "png \n",
            "  2 \n"
          ],
          "name": "stdout"
        }
      ]
    },
    {
      "cell_type": "code",
      "metadata": {
        "colab": {
          "base_uri": "https://localhost:8080/"
        },
        "id": "12TjHdUfmMMC",
        "outputId": "f50fa95f-e508-4761-a378-2778e2a5dbcc"
      },
      "source": [
        "!wget https://raw.githubusercontent.com/vanya-antonov/hse21_H3K4me3_ZDNA_human/main/data/DeepZ.bed"
      ],
      "execution_count": 111,
      "outputs": [
        {
          "output_type": "stream",
          "text": [
            "--2021-06-09 14:58:10--  https://raw.githubusercontent.com/vanya-antonov/hse21_H3K4me3_ZDNA_human/main/data/DeepZ.bed\n",
            "Resolving raw.githubusercontent.com (raw.githubusercontent.com)... 185.199.111.133, 185.199.109.133, 185.199.110.133, ...\n",
            "Connecting to raw.githubusercontent.com (raw.githubusercontent.com)|185.199.111.133|:443... connected.\n",
            "HTTP request sent, awaiting response... 200 OK\n",
            "Length: 461744 (451K) [text/plain]\n",
            "Saving to: ‘DeepZ.bed’\n",
            "\n",
            "DeepZ.bed           100%[===================>] 450.92K  --.-KB/s    in 0.08s   \n",
            "\n",
            "2021-06-09 14:58:10 (5.38 MB/s) - ‘DeepZ.bed’ saved [461744/461744]\n",
            "\n"
          ],
          "name": "stdout"
        }
      ]
    },
    {
      "cell_type": "code",
      "metadata": {
        "id": "UNqBtIWaR96k"
      },
      "source": [
        "!mv DeepZ.bed Data/"
      ],
      "execution_count": 112,
      "outputs": []
    },
    {
      "cell_type": "code",
      "metadata": {
        "id": "5fRdzNIZR__0"
      },
      "source": [
        "df_z = pd.read_csv('Data/DeepZ.bed', sep='\\t', header=None)"
      ],
      "execution_count": 113,
      "outputs": []
    },
    {
      "cell_type": "code",
      "metadata": {
        "colab": {
          "base_uri": "https://localhost:8080/",
          "height": 313
        },
        "id": "g9VG-i1jVaVi",
        "outputId": "e4da7274-b53f-4d8b-f544-480266caabde"
      },
      "source": [
        "figure = plt.figure()\n",
        "axes = figure.subplots()\n",
        "\n",
        "axes.hist(df_z[2] - df_z[1], bins=200)\n",
        "axes.set_xlabel('Len')\n",
        "axes.set_title('Distribution of lens')\n",
        "pdf = PdfPages(\"Hist_DeepZ.pdf\")\n",
        "pdf.savefig(figure)\n",
        "pdf.close()\n",
        "\n",
        "print(len(df_z))"
      ],
      "execution_count": 116,
      "outputs": [
        {
          "output_type": "stream",
          "text": [
            "19394\n"
          ],
          "name": "stdout"
        },
        {
          "output_type": "display_data",
          "data": {
            "image/png": "[encoded data removed]",
            "text/plain": [
              "<Figure size 432x288 with 1 Axes>"
            ]
          },
          "metadata": {
            "tags": [],
            "needs_background": "light"
          }
        }
      ]
    },
    {
      "cell_type": "code",
      "metadata": {
        "colab": {
          "base_uri": "https://localhost:8080/"
        },
        "id": "wcuaqekAVa1g",
        "outputId": "20f22c32-5353-4741-9a45-c324939e810e"
      },
      "source": [
        "%%R\n",
        "install.packages(\"ChIPseeker\")\n",
        "\n",
        "library(ggplot2)\n",
        "library(dplyr)\n",
        "library(tidyr)   # replace_na\n",
        "library(tibble)  # column_to_rownames\n",
        "DATA_DIR <- 'Data/'\n",
        "library(ChIPseeker)\n",
        "library(TxDb.Hsapiens.UCSC.hg19.knownGene)\n",
        "#library(clusterProfiler)\n",
        "\n",
        "NAME <- 'DeepZ'\n",
        "BED_FN <- paste0(DATA_DIR, NAME, '.bed')\n",
        "\n",
        "###\n",
        "\n",
        "txdb <- TxDb.Hsapiens.UCSC.hg19.knownGene\n",
        "\n",
        "peakAnno <- annotatePeak(BED_FN, tssRegion=c(-3000, 3000), TxDb=txdb, annoDb=\"org.Hs.eg.db\")\n",
        "\n",
        "OUT_DIR <- 'Data/'\n",
        "#pdf(paste0(OUT_DIR, 'chip_seeker.', NAME, '.plotAnnoPie.pdf'))\n",
        "png(paste0(OUT_DIR, 'chip_seeker.', NAME, '.plotAnnoPie.png'))\n",
        "plotAnnoPie(peakAnno)\n",
        "dev.off()\n"
      ],
      "execution_count": 117,
      "outputs": [
        {
          "output_type": "stream",
          "text": [
            "R[write to console]: Installing package into ‘/usr/local/lib/R/site-library’\n",
            "(as ‘lib’ is unspecified)\n",
            "\n"
          ],
          "name": "stderr"
        },
        {
          "output_type": "stream",
          "text": [
            ">> loading peak file...\t\t\t\t 2021-06-09 03:25:49 PM \n",
            ">> preparing features information...\t\t 2021-06-09 03:25:49 PM \n",
            ">> identifying nearest features...\t\t 2021-06-09 03:25:49 PM \n",
            ">> calculating distance from peak to TSS...\t 2021-06-09 03:25:50 PM \n",
            ">> assigning genomic annotation...\t\t 2021-06-09 03:25:50 PM \n",
            ">> adding gene annotation...\t\t\t 2021-06-09 03:25:53 PM \n"
          ],
          "name": "stdout"
        },
        {
          "output_type": "stream",
          "text": [
            "R[write to console]: 'select()' returned 1:many mapping between keys and columns\n",
            "\n"
          ],
          "name": "stderr"
        },
        {
          "output_type": "stream",
          "text": [
            ">> assigning chromosome lengths\t\t\t 2021-06-09 03:25:53 PM \n",
            ">> done...\t\t\t\t\t 2021-06-09 03:25:53 PM \n",
            "png \n",
            "  2 \n"
          ],
          "name": "stdout"
        }
      ]
    },
    {
      "cell_type": "code",
      "metadata": {
        "id": "CjiCHgUjYSr1"
      },
      "source": [
        "!bedtools intersect -a Data/DeepZ.bed -b Data/H3K9me3_H9.merge.hg19.bed > Data/H3K9me3_H9.intersect_with_DeepZ.bed\n"
      ],
      "execution_count": 118,
      "outputs": []
    },
    {
      "cell_type": "code",
      "metadata": {
        "id": "hw-POWWMafik"
      },
      "source": [
        "df_int = pd.read_csv('Data/H3K9me3_H9.intersect_with_DeepZ.bed', sep='\\t', header=None)"
      ],
      "execution_count": 119,
      "outputs": []
    },
    {
      "cell_type": "code",
      "metadata": {
        "colab": {
          "base_uri": "https://localhost:8080/",
          "height": 422
        },
        "id": "EdhuDgP8a9Og",
        "outputId": "d7c914b7-b71f-47b2-f51f-e9c28a0f3616"
      },
      "source": [
        "df_int"
      ],
      "execution_count": 120,
      "outputs": [
        {
          "output_type": "execute_result",
          "data": {
            "text/html": [
              "<div>\n",
              "<style scoped>\n",
              "    .dataframe tbody tr th:only-of-type {\n",
              "        vertical-align: middle;\n",
              "    }\n",
              "\n",
              "    .dataframe tbody tr th {\n",
              "        vertical-align: top;\n",
              "    }\n",
              "\n",
              "    .dataframe thead th {\n",
              "        text-align: right;\n",
              "    }\n",
              "</style>\n",
              "<table border=\"1\" class=\"dataframe\">\n",
              "  <thead>\n",
              "    <tr style=\"text-align: right;\">\n",
              "      <th></th>\n",
              "      <th>0</th>\n",
              "      <th>1</th>\n",
              "      <th>2</th>\n",
              "    </tr>\n",
              "  </thead>\n",
              "  <tbody>\n",
              "    <tr>\n",
              "      <th>0</th>\n",
              "      <td>chr1</td>\n",
              "      <td>2787920</td>\n",
              "      <td>2788082</td>\n",
              "    </tr>\n",
              "    <tr>\n",
              "      <th>1</th>\n",
              "      <td>chr1</td>\n",
              "      <td>3030787</td>\n",
              "      <td>3031033</td>\n",
              "    </tr>\n",
              "    <tr>\n",
              "      <th>2</th>\n",
              "      <td>chr1</td>\n",
              "      <td>29563691</td>\n",
              "      <td>29564213</td>\n",
              "    </tr>\n",
              "    <tr>\n",
              "      <th>3</th>\n",
              "      <td>chr1</td>\n",
              "      <td>44883660</td>\n",
              "      <td>44883798</td>\n",
              "    </tr>\n",
              "    <tr>\n",
              "      <th>4</th>\n",
              "      <td>chr1</td>\n",
              "      <td>44889645</td>\n",
              "      <td>44889787</td>\n",
              "    </tr>\n",
              "    <tr>\n",
              "      <th>...</th>\n",
              "      <td>...</td>\n",
              "      <td>...</td>\n",
              "      <td>...</td>\n",
              "    </tr>\n",
              "    <tr>\n",
              "      <th>506</th>\n",
              "      <td>chrX</td>\n",
              "      <td>153665378</td>\n",
              "      <td>153665620</td>\n",
              "    </tr>\n",
              "    <tr>\n",
              "      <th>507</th>\n",
              "      <td>chrX</td>\n",
              "      <td>153718909</td>\n",
              "      <td>153718933</td>\n",
              "    </tr>\n",
              "    <tr>\n",
              "      <th>508</th>\n",
              "      <td>chrX</td>\n",
              "      <td>153718973</td>\n",
              "      <td>153718984</td>\n",
              "    </tr>\n",
              "    <tr>\n",
              "      <th>509</th>\n",
              "      <td>chrX</td>\n",
              "      <td>155259817</td>\n",
              "      <td>155260303</td>\n",
              "    </tr>\n",
              "    <tr>\n",
              "      <th>510</th>\n",
              "      <td>chrX</td>\n",
              "      <td>155260416</td>\n",
              "      <td>155260511</td>\n",
              "    </tr>\n",
              "  </tbody>\n",
              "</table>\n",
              "<p>511 rows × 3 columns</p>\n",
              "</div>"
            ],
            "text/plain": [
              "        0          1          2\n",
              "0    chr1    2787920    2788082\n",
              "1    chr1    3030787    3031033\n",
              "2    chr1   29563691   29564213\n",
              "3    chr1   44883660   44883798\n",
              "4    chr1   44889645   44889787\n",
              "..    ...        ...        ...\n",
              "506  chrX  153665378  153665620\n",
              "507  chrX  153718909  153718933\n",
              "508  chrX  153718973  153718984\n",
              "509  chrX  155259817  155260303\n",
              "510  chrX  155260416  155260511\n",
              "\n",
              "[511 rows x 3 columns]"
            ]
          },
          "metadata": {
            "tags": []
          },
          "execution_count": 120
        }
      ]
    },
    {
      "cell_type": "code",
      "metadata": {
        "colab": {
          "base_uri": "https://localhost:8080/",
          "height": 313
        },
        "id": "kaPM60lHa-Uw",
        "outputId": "4d17f26d-ffeb-4976-9976-a47568315850"
      },
      "source": [
        "figure = plt.figure()\n",
        "axes = figure.subplots()\n",
        "\n",
        "axes.hist(df_int[2] - df_int[1], bins=200)\n",
        "axes.set_xlabel('Len')\n",
        "axes.set_title('Distribution of lens')\n",
        "pdf = PdfPages(\"Hist_intersection.pdf\")\n",
        "pdf.savefig(figure)\n",
        "pdf.close()\n",
        "\n",
        "print(len(df_int))"
      ],
      "execution_count": 121,
      "outputs": [
        {
          "output_type": "stream",
          "text": [
            "511\n"
          ],
          "name": "stdout"
        },
        {
          "output_type": "display_data",
          "data": {
            "image/png": "[encoded data removed]",
            "text/plain": [
              "<Figure size 432x288 with 1 Axes>"
            ]
          },
          "metadata": {
            "tags": [],
            "needs_background": "light"
          }
        }
      ]
    },
    {
      "cell_type": "code",
      "metadata": {
        "colab": {
          "base_uri": "https://localhost:8080/"
        },
        "id": "Sn7Y7j5Nguwg",
        "outputId": "5baa62ca-1ca5-4da4-d5ac-5ab383d320c6"
      },
      "source": [
        "%%R\n",
        "BiocManager::install('ChIPpeakAnno')"
      ],
      "execution_count": 124,
      "outputs": [
        {
          "output_type": "stream",
          "text": [
            "R[write to console]: 'getOption(\"repos\")' replaces Bioconductor standard repositories, see\n",
            "'?repositories' for details\n",
            "\n",
            "replacement repositories:\n",
            "    CRAN: https://cran.rstudio.com\n",
            "\n",
            "\n",
            "R[write to console]: Bioconductor version 3.13 (BiocManager 1.30.15), R 4.1.0 (2021-05-18)\n",
            "\n",
            "R[write to console]: Installing package(s) 'ChIPpeakAnno'\n",
            "\n",
            "R[write to console]: also installing the dependencies ‘AnnotationFilter’, ‘ProtGenerics’, ‘BSgenome’, ‘ensembldb’, ‘RBGL’, ‘VennDiagram’, ‘graph’, ‘InteractionSet’, ‘multtest’, ‘regioneR’\n",
            "\n",
            "\n",
            "R[write to console]: trying URL 'https://bioconductor.org/packages/3.13/bioc/src/contrib/AnnotationFilter_1.16.0.tar.gz'\n",
            "\n",
            "R[write to console]: Content type 'application/x-gzip'\n",
            "R[write to console]:  length 312037 bytes (304 KB)\n",
            "\n",
            "R[write to console]: =\n",
            "R[write to console]: =\n",
            "R[write to console]: =\n",
            "R[write to console]: =\n",
            "R[write to console]: =\n",
            "R[write to console]: =\n",
            "R[write to console]: =\n",
            "R[write to console]: =\n",
            "R[write to console]: =\n",
            "R[write to console]: =\n",
            "R[write to console]: =\n",
            "R[write to console]: =\n",
            "R[write to console]: =\n",
            "R[write to console]: =\n",
            "R[write to console]: =\n",
            "R[write to console]: =\n",
            "R[write to console]: =\n",
            "R[write to console]: =\n",
            "R[write to console]: =\n",
            "R[write to console]: =\n",
            "R[write to console]: =\n",
            "R[write to console]: =\n",
            "R[write to console]: =\n",
            "R[write to console]: =\n",
            "R[write to console]: =\n",
            "R[write to console]: =\n",
            "R[write to console]: =\n",
            "R[write to console]: =\n",
            "R[write to console]: =\n",
            "R[write to console]: =\n",
            "R[write to console]: =\n",
            "R[write to console]: =\n",
            "R[write to console]: =\n",
            "R[write to console]: =\n",
            "R[write to console]: =\n",
            "R[write to console]: =\n",
            "R[write to console]: =\n",
            "R[write to console]: =\n",
            "R[write to console]: =\n",
            "R[write to console]: =\n",
            "R[write to console]: =\n",
            "R[write to console]: =\n",
            "R[write to console]: =\n",
            "R[write to console]: =\n",
            "R[write to console]: =\n",
            "R[write to console]: =\n",
            "R[write to console]: =\n",
            "R[write to console]: =\n",
            "R[write to console]: =\n",
            "R[write to console]: =\n",
            "R[write to console]: \n",
            "\n",
            "R[write to console]: downloaded 304 KB\n",
            "\n",
            "\n",
            "R[write to console]: trying URL 'https://bioconductor.org/packages/3.13/bioc/src/contrib/ProtGenerics_1.24.0.tar.gz'\n",
            "\n",
            "R[write to console]: Content type 'application/x-gzip'\n",
            "R[write to console]:  length 8612 bytes\n",
            "\n",
            "R[write to console]: =\n",
            "R[write to console]: =\n",
            "R[write to console]: =\n",
            "R[write to console]: =\n",
            "R[write to console]: =\n",
            "R[write to console]: =\n",
            "R[write to console]: =\n",
            "R[write to console]: =\n",
            "R[write to console]: =\n",
            "R[write to console]: =\n",
            "R[write to console]: =\n",
            "R[write to console]: =\n",
            "R[write to console]: =\n",
            "R[write to console]: =\n",
            "R[write to console]: =\n",
            "R[write to console]: =\n",
            "R[write to console]: =\n",
            "R[write to console]: =\n",
            "R[write to console]: =\n",
            "R[write to console]: =\n",
            "R[write to console]: =\n",
            "R[write to console]: =\n",
            "R[write to console]: =\n",
            "R[write to console]: =\n",
            "R[write to console]: =\n",
            "R[write to console]: =\n",
            "R[write to console]: =\n",
            "R[write to console]: =\n",
            "R[write to console]: =\n",
            "R[write to console]: =\n",
            "R[write to console]: =\n",
            "R[write to console]: =\n",
            "R[write to console]: =\n",
            "R[write to console]: =\n",
            "R[write to console]: =\n",
            "R[write to console]: =\n",
            "R[write to console]: =\n",
            "R[write to console]: =\n",
            "R[write to console]: =\n",
            "R[write to console]: =\n",
            "R[write to console]: =\n",
            "R[write to console]: =\n",
            "R[write to console]: =\n",
            "R[write to console]: =\n",
            "R[write to console]: =\n",
            "R[write to console]: =\n",
            "R[write to console]: =\n",
            "R[write to console]: =\n",
            "R[write to console]: =\n",
            "R[write to console]: =\n",
            "R[write to console]: \n",
            "\n",
            "R[write to console]: downloaded 8612 bytes\n",
            "\n",
            "\n",
            "R[write to console]: trying URL 'https://bioconductor.org/packages/3.13/bioc/src/contrib/BSgenome_1.60.0.tar.gz'\n",
            "\n",
            "R[write to console]: Content type 'application/x-gzip'\n",
            "R[write to console]:  length 6048938 bytes (5.8 MB)\n",
            "\n",
            "R[write to console]: =\n",
            "R[write to console]: =\n",
            "R[write to console]: =\n",
            "R[write to console]: =\n",
            "R[write to console]: =\n",
            "R[write to console]: =\n",
            "R[write to console]: =\n",
            "R[write to console]: =\n",
            "R[write to console]: =\n",
            "R[write to console]: =\n",
            "R[write to console]: =\n",
            "R[write to console]: =\n",
            "R[write to console]: =\n",
            "R[write to console]: =\n",
            "R[write to console]: =\n",
            "R[write to console]: =\n",
            "R[write to console]: =\n",
            "R[write to console]: =\n",
            "R[write to console]: =\n",
            "R[write to console]: =\n",
            "R[write to console]: =\n",
            "R[write to console]: =\n",
            "R[write to console]: =\n",
            "R[write to console]: =\n",
            "R[write to console]: =\n",
            "R[write to console]: =\n",
            "R[write to console]: =\n",
            "R[write to console]: =\n",
            "R[write to console]: =\n",
            "R[write to console]: =\n",
            "R[write to console]: =\n",
            "R[write to console]: =\n",
            "R[write to console]: =\n",
            "R[write to console]: =\n",
            "R[write to console]: =\n",
            "R[write to console]: =\n",
            "R[write to console]: =\n",
            "R[write to console]: =\n",
            "R[write to console]: =\n",
            "R[write to console]: =\n",
            "R[write to console]: =\n",
            "R[write to console]: =\n",
            "R[write to console]: =\n",
            "R[write to console]: =\n",
            "R[write to console]: =\n",
            "R[write to console]: =\n",
            "R[write to console]: =\n",
            "R[write to console]: =\n",
            "R[write to console]: =\n",
            "R[write to console]: =\n",
            "R[write to console]: \n",
            "\n",
            "R[write to console]: downloaded 5.8 MB\n",
            "\n",
            "\n",
            "R[write to console]: trying URL 'https://bioconductor.org/packages/3.13/bioc/src/contrib/ensembldb_2.16.0.tar.gz'\n",
            "\n",
            "R[write to console]: Content type 'application/x-gzip'\n",
            "R[write to console]:  length 3322507 bytes (3.2 MB)\n",
            "\n",
            "R[write to console]: =\n",
            "R[write to console]: =\n",
            "R[write to console]: =\n",
            "R[write to console]: =\n",
            "R[write to console]: =\n",
            "R[write to console]: =\n",
            "R[write to console]: =\n",
            "R[write to console]: =\n",
            "R[write to console]: =\n",
            "R[write to console]: =\n",
            "R[write to console]: =\n",
            "R[write to console]: =\n",
            "R[write to console]: =\n",
            "R[write to console]: =\n",
            "R[write to console]: =\n",
            "R[write to console]: =\n",
            "R[write to console]: =\n",
            "R[write to console]: =\n",
            "R[write to console]: =\n",
            "R[write to console]: =\n",
            "R[write to console]: =\n",
            "R[write to console]: =\n",
            "R[write to console]: =\n",
            "R[write to console]: =\n",
            "R[write to console]: =\n",
            "R[write to console]: =\n",
            "R[write to console]: =\n",
            "R[write to console]: =\n",
            "R[write to console]: =\n",
            "R[write to console]: =\n",
            "R[write to console]: =\n",
            "R[write to console]: =\n",
            "R[write to console]: =\n",
            "R[write to console]: =\n",
            "R[write to console]: =\n",
            "R[write to console]: =\n",
            "R[write to console]: =\n",
            "R[write to console]: =\n",
            "R[write to console]: =\n",
            "R[write to console]: =\n",
            "R[write to console]: =\n",
            "R[write to console]: =\n",
            "R[write to console]: =\n",
            "R[write to console]: =\n",
            "R[write to console]: =\n",
            "R[write to console]: =\n",
            "R[write to console]: =\n",
            "R[write to console]: =\n",
            "R[write to console]: =\n",
            "R[write to console]: =\n",
            "R[write to console]: \n",
            "\n",
            "R[write to console]: downloaded 3.2 MB\n",
            "\n",
            "\n",
            "R[write to console]: trying URL 'https://bioconductor.org/packages/3.13/bioc/src/contrib/RBGL_1.68.0.tar.gz'\n",
            "\n",
            "R[write to console]: Content type 'application/x-gzip'\n",
            "R[write to console]:  length 2279241 bytes (2.2 MB)\n",
            "\n",
            "R[write to console]: =\n",
            "R[write to console]: =\n",
            "R[write to console]: =\n",
            "R[write to console]: =\n",
            "R[write to console]: =\n",
            "R[write to console]: =\n",
            "R[write to console]: =\n",
            "R[write to console]: =\n",
            "R[write to console]: =\n",
            "R[write to console]: =\n",
            "R[write to console]: =\n",
            "R[write to console]: =\n",
            "R[write to console]: =\n",
            "R[write to console]: =\n",
            "R[write to console]: =\n",
            "R[write to console]: =\n",
            "R[write to console]: =\n",
            "R[write to console]: =\n",
            "R[write to console]: =\n",
            "R[write to console]: =\n",
            "R[write to console]: =\n",
            "R[write to console]: =\n",
            "R[write to console]: =\n",
            "R[write to console]: =\n",
            "R[write to console]: =\n",
            "R[write to console]: =\n",
            "R[write to console]: =\n",
            "R[write to console]: =\n",
            "R[write to console]: =\n",
            "R[write to console]: =\n",
            "R[write to console]: =\n",
            "R[write to console]: =\n",
            "R[write to console]: =\n",
            "R[write to console]: =\n",
            "R[write to console]: =\n",
            "R[write to console]: =\n",
            "R[write to console]: =\n",
            "R[write to console]: =\n",
            "R[write to console]: =\n",
            "R[write to console]: =\n",
            "R[write to console]: =\n",
            "R[write to console]: =\n",
            "R[write to console]: =\n",
            "R[write to console]: =\n",
            "R[write to console]: =\n",
            "R[write to console]: =\n",
            "R[write to console]: =\n",
            "R[write to console]: =\n",
            "R[write to console]: =\n",
            "R[write to console]: =\n",
            "R[write to console]: \n",
            "\n",
            "R[write to console]: downloaded 2.2 MB\n",
            "\n",
            "\n",
            "R[write to console]: trying URL 'https://cran.rstudio.com/src/contrib/VennDiagram_1.6.20.tar.gz'\n",
            "\n",
            "R[write to console]: Content type 'application/x-gzip'\n",
            "R[write to console]:  length 1920161 bytes (1.8 MB)\n",
            "\n",
            "R[write to console]: =\n",
            "R[write to console]: =\n",
            "R[write to console]: =\n",
            "R[write to console]: =\n",
            "R[write to console]: =\n",
            "R[write to console]: =\n",
            "R[write to console]: =\n",
            "R[write to console]: =\n",
            "R[write to console]: =\n",
            "R[write to console]: =\n",
            "R[write to console]: =\n",
            "R[write to console]: =\n",
            "R[write to console]: =\n",
            "R[write to console]: =\n",
            "R[write to console]: =\n",
            "R[write to console]: =\n",
            "R[write to console]: =\n",
            "R[write to console]: =\n",
            "R[write to console]: =\n",
            "R[write to console]: =\n",
            "R[write to console]: =\n",
            "R[write to console]: =\n",
            "R[write to console]: =\n",
            "R[write to console]: =\n",
            "R[write to console]: =\n",
            "R[write to console]: =\n",
            "R[write to console]: =\n",
            "R[write to console]: =\n",
            "R[write to console]: =\n",
            "R[write to console]: =\n",
            "R[write to console]: =\n",
            "R[write to console]: =\n",
            "R[write to console]: =\n",
            "R[write to console]: =\n",
            "R[write to console]: =\n",
            "R[write to console]: =\n",
            "R[write to console]: =\n",
            "R[write to console]: =\n",
            "R[write to console]: =\n",
            "R[write to console]: =\n",
            "R[write to console]: =\n",
            "R[write to console]: =\n",
            "R[write to console]: =\n",
            "R[write to console]: =\n",
            "R[write to console]: =\n",
            "R[write to console]: =\n",
            "R[write to console]: =\n",
            "R[write to console]: =\n",
            "R[write to console]: =\n",
            "R[write to console]: =\n",
            "R[write to console]: \n",
            "\n",
            "R[write to console]: downloaded 1.8 MB\n",
            "\n",
            "\n",
            "R[write to console]: trying URL 'https://bioconductor.org/packages/3.13/bioc/src/contrib/graph_1.70.0.tar.gz'\n",
            "\n",
            "R[write to console]: Content type 'application/x-gzip'\n",
            "R[write to console]:  length 930593 bytes (908 KB)\n",
            "\n",
            "R[write to console]: =\n",
            "R[write to console]: =\n",
            "R[write to console]: =\n",
            "R[write to console]: =\n",
            "R[write to console]: =\n",
            "R[write to console]: =\n",
            "R[write to console]: =\n",
            "R[write to console]: =\n",
            "R[write to console]: =\n",
            "R[write to console]: =\n",
            "R[write to console]: =\n",
            "R[write to console]: =\n",
            "R[write to console]: =\n",
            "R[write to console]: =\n",
            "R[write to console]: =\n",
            "R[write to console]: =\n",
            "R[write to console]: =\n",
            "R[write to console]: =\n",
            "R[write to console]: =\n",
            "R[write to console]: =\n",
            "R[write to console]: =\n",
            "R[write to console]: =\n",
            "R[write to console]: =\n",
            "R[write to console]: =\n",
            "R[write to console]: =\n",
            "R[write to console]: =\n",
            "R[write to console]: =\n",
            "R[write to console]: =\n",
            "R[write to console]: =\n",
            "R[write to console]: =\n",
            "R[write to console]: =\n",
            "R[write to console]: =\n",
            "R[write to console]: =\n",
            "R[write to console]: =\n",
            "R[write to console]: =\n",
            "R[write to console]: =\n",
            "R[write to console]: =\n",
            "R[write to console]: =\n",
            "R[write to console]: =\n",
            "R[write to console]: =\n",
            "R[write to console]: =\n",
            "R[write to console]: =\n",
            "R[write to console]: =\n",
            "R[write to console]: =\n",
            "R[write to console]: =\n",
            "R[write to console]: =\n",
            "R[write to console]: =\n",
            "R[write to console]: =\n",
            "R[write to console]: =\n",
            "R[write to console]: =\n",
            "R[write to console]: \n",
            "\n",
            "R[write to console]: downloaded 908 KB\n",
            "\n",
            "\n",
            "R[write to console]: trying URL 'https://bioconductor.org/packages/3.13/bioc/src/contrib/InteractionSet_1.20.0.tar.gz'\n",
            "\n",
            "R[write to console]: Content type 'application/x-gzip'\n",
            "R[write to console]:  length 387635 bytes (378 KB)\n",
            "\n",
            "R[write to console]: =\n",
            "R[write to console]: =\n",
            "R[write to console]: =\n",
            "R[write to console]: =\n",
            "R[write to console]: =\n",
            "R[write to console]: =\n",
            "R[write to console]: =\n",
            "R[write to console]: =\n",
            "R[write to console]: =\n",
            "R[write to console]: =\n",
            "R[write to console]: =\n",
            "R[write to console]: =\n",
            "R[write to console]: =\n",
            "R[write to console]: =\n",
            "R[write to console]: =\n",
            "R[write to console]: =\n",
            "R[write to console]: =\n",
            "R[write to console]: =\n",
            "R[write to console]: =\n",
            "R[write to console]: =\n",
            "R[write to console]: =\n",
            "R[write to console]: =\n",
            "R[write to console]: =\n",
            "R[write to console]: =\n",
            "R[write to console]: =\n",
            "R[write to console]: =\n",
            "R[write to console]: =\n",
            "R[write to console]: =\n",
            "R[write to console]: =\n",
            "R[write to console]: =\n",
            "R[write to console]: =\n",
            "R[write to console]: =\n",
            "R[write to console]: =\n",
            "R[write to console]: =\n",
            "R[write to console]: =\n",
            "R[write to console]: =\n",
            "R[write to console]: =\n",
            "R[write to console]: =\n",
            "R[write to console]: =\n",
            "R[write to console]: =\n",
            "R[write to console]: =\n",
            "R[write to console]: =\n",
            "R[write to console]: =\n",
            "R[write to console]: =\n",
            "R[write to console]: =\n",
            "R[write to console]: =\n",
            "R[write to console]: =\n",
            "R[write to console]: =\n",
            "R[write to console]: =\n",
            "R[write to console]: =\n",
            "R[write to console]: \n",
            "\n",
            "R[write to console]: downloaded 378 KB\n",
            "\n",
            "\n",
            "R[write to console]: trying URL 'https://bioconductor.org/packages/3.13/bioc/src/contrib/multtest_2.48.0.tar.gz'\n",
            "\n",
            "R[write to console]: Content type 'application/x-gzip'\n",
            "R[write to console]:  length 1294478 bytes (1.2 MB)\n",
            "\n",
            "R[write to console]: =\n",
            "R[write to console]: =\n",
            "R[write to console]: =\n",
            "R[write to console]: =\n",
            "R[write to console]: =\n",
            "R[write to console]: =\n",
            "R[write to console]: =\n",
            "R[write to console]: =\n",
            "R[write to console]: =\n",
            "R[write to console]: =\n",
            "R[write to console]: =\n",
            "R[write to console]: =\n",
            "R[write to console]: =\n",
            "R[write to console]: =\n",
            "R[write to console]: =\n",
            "R[write to console]: =\n",
            "R[write to console]: =\n",
            "R[write to console]: =\n",
            "R[write to console]: =\n",
            "R[write to console]: =\n",
            "R[write to console]: =\n",
            "R[write to console]: =\n",
            "R[write to console]: =\n",
            "R[write to console]: =\n",
            "R[write to console]: =\n",
            "R[write to console]: =\n",
            "R[write to console]: =\n",
            "R[write to console]: =\n",
            "R[write to console]: =\n",
            "R[write to console]: =\n",
            "R[write to console]: =\n",
            "R[write to console]: =\n",
            "R[write to console]: =\n",
            "R[write to console]: =\n",
            "R[write to console]: =\n",
            "R[write to console]: =\n",
            "R[write to console]: =\n",
            "R[write to console]: =\n",
            "R[write to console]: =\n",
            "R[write to console]: =\n",
            "R[write to console]: =\n",
            "R[write to console]: =\n",
            "R[write to console]: =\n",
            "R[write to console]: =\n",
            "R[write to console]: =\n",
            "R[write to console]: =\n",
            "R[write to console]: =\n",
            "R[write to console]: =\n",
            "R[write to console]: =\n",
            "R[write to console]: =\n",
            "R[write to console]: \n",
            "\n",
            "R[write to console]: downloaded 1.2 MB\n",
            "\n",
            "\n",
            "R[write to console]: trying URL 'https://bioconductor.org/packages/3.13/bioc/src/contrib/regioneR_1.24.0.tar.gz'\n",
            "\n",
            "R[write to console]: Content type 'application/x-gzip'\n",
            "R[write to console]:  length 1925903 bytes (1.8 MB)\n",
            "\n",
            "R[write to console]: =\n",
            "R[write to console]: =\n",
            "R[write to console]: =\n",
            "R[write to console]: =\n",
            "R[write to console]: =\n",
            "R[write to console]: =\n",
            "R[write to console]: =\n",
            "R[write to console]: =\n",
            "R[write to console]: =\n",
            "R[write to console]: =\n",
            "R[write to console]: =\n",
            "R[write to console]: =\n",
            "R[write to console]: =\n",
            "R[write to console]: =\n",
            "R[write to console]: =\n",
            "R[write to console]: =\n",
            "R[write to console]: =\n",
            "R[write to console]: =\n",
            "R[write to console]: =\n",
            "R[write to console]: =\n",
            "R[write to console]: =\n",
            "R[write to console]: =\n",
            "R[write to console]: =\n",
            "R[write to console]: =\n",
            "R[write to console]: =\n",
            "R[write to console]: =\n",
            "R[write to console]: =\n",
            "R[write to console]: =\n",
            "R[write to console]: =\n",
            "R[write to console]: =\n",
            "R[write to console]: =\n",
            "R[write to console]: =\n",
            "R[write to console]: =\n",
            "R[write to console]: =\n",
            "R[write to console]: =\n",
            "R[write to console]: =\n",
            "R[write to console]: =\n",
            "R[write to console]: =\n",
            "R[write to console]: =\n",
            "R[write to console]: =\n",
            "R[write to console]: =\n",
            "R[write to console]: =\n",
            "R[write to console]: =\n",
            "R[write to console]: =\n",
            "R[write to console]: =\n",
            "R[write to console]: =\n",
            "R[write to console]: =\n",
            "R[write to console]: =\n",
            "R[write to console]: =\n",
            "R[write to console]: =\n",
            "R[write to console]: \n",
            "\n",
            "R[write to console]: downloaded 1.8 MB\n",
            "\n",
            "\n",
            "R[write to console]: trying URL 'https://bioconductor.org/packages/3.13/bioc/src/contrib/ChIPpeakAnno_3.26.0.tar.gz'\n",
            "\n",
            "R[write to console]: Content type 'application/x-gzip'\n",
            "R[write to console]:  length 19507437 bytes (18.6 MB)\n",
            "\n",
            "R[write to console]: =\n",
            "R[write to console]: =\n",
            "R[write to console]: =\n",
            "R[write to console]: =\n",
            "R[write to console]: =\n",
            "R[write to console]: =\n",
            "R[write to console]: =\n",
            "R[write to console]: =\n",
            "R[write to console]: =\n",
            "R[write to console]: =\n",
            "R[write to console]: =\n",
            "R[write to console]: =\n",
            "R[write to console]: =\n",
            "R[write to console]: =\n",
            "R[write to console]: =\n",
            "R[write to console]: =\n",
            "R[write to console]: =\n",
            "R[write to console]: =\n",
            "R[write to console]: =\n",
            "R[write to console]: =\n",
            "R[write to console]: =\n",
            "R[write to console]: =\n",
            "R[write to console]: =\n",
            "R[write to console]: =\n",
            "R[write to console]: =\n",
            "R[write to console]: =\n",
            "R[write to console]: =\n",
            "R[write to console]: =\n",
            "R[write to console]: =\n",
            "R[write to console]: =\n",
            "R[write to console]: =\n",
            "R[write to console]: =\n",
            "R[write to console]: =\n",
            "R[write to console]: =\n",
            "R[write to console]: =\n",
            "R[write to console]: =\n",
            "R[write to console]: =\n",
            "R[write to console]: =\n",
            "R[write to console]: =\n",
            "R[write to console]: =\n",
            "R[write to console]: =\n",
            "R[write to console]: =\n",
            "R[write to console]: =\n",
            "R[write to console]: =\n",
            "R[write to console]: =\n",
            "R[write to console]: =\n",
            "R[write to console]: =\n",
            "R[write to console]: =\n",
            "R[write to console]: =\n",
            "R[write to console]: =\n",
            "R[write to console]: \n",
            "\n",
            "R[write to console]: downloaded 18.6 MB\n",
            "\n",
            "\n",
            "R[write to console]: \n",
            "\n",
            "R[write to console]: \n",
            "R[write to console]: The downloaded source packages are in\n",
            "\t‘/tmp/RtmphhpCg9/downloaded_packages’\n",
            "R[write to console]: \n",
            "R[write to console]: \n",
            "\n"
          ],
          "name": "stderr"
        }
      ]
    },
    {
      "cell_type": "code",
      "metadata": {
        "colab": {
          "base_uri": "https://localhost:8080/"
        },
        "id": "e910UTtMfBa5",
        "outputId": "390a33e3-f020-43c1-a32b-67774e297ff4"
      },
      "source": [
        "%%R\n",
        "library(ggplot2)\n",
        "library(dplyr)\n",
        "library(tidyr)   # replace_na\n",
        "library(tibble)  # column_to_rownames\n",
        "DATA_DIR <- 'Data/'\n",
        "library(ChIPseeker)\n",
        "library(TxDb.Hsapiens.UCSC.hg19.knownGene)\n",
        "#library(clusterProfiler)\n",
        "\n",
        "library(ChIPpeakAnno)\n",
        "library(TxDb.Hsapiens.UCSC.hg19.knownGene)\n",
        "library(org.Hs.eg.db)\n",
        "#library(TxDb.Mmusculus.UCSC.mm10.knownGene)\n",
        "#library(org.Mm.eg.db)\n",
        "\n",
        "###\n",
        "\n",
        "\n",
        "peaks <- toGRanges(paste0(DATA_DIR, 'H3K9me3_H9.intersect_with_DeepZ.bed'), format=\"BED\")\n",
        "peaks[1:2]\n",
        "\n",
        "annoData <- toGRanges(TxDb.Hsapiens.UCSC.hg19.knownGene)\n",
        "annoData[1:2]\n",
        "\n",
        "\n",
        "anno <- annotatePeakInBatch(peaks, AnnotationData=annoData, \n",
        "                            output=\"overlapping\", \n",
        "                            FeatureLocForDistance=\"TSS\",\n",
        "                            bindingRegion=c(-2000, 300))\n",
        "data.frame(anno) %>% head()\n",
        "\n",
        "anno$symbol <- xget(anno$feature, org.Hs.egSYMBOL)\n",
        "data.frame(anno) %>% head()\n",
        "\n",
        "anno_df <- data.frame(anno)\n",
        "write.table(anno_df, file=paste0(DATA_DIR, 'H3K9me3_H9.intersect_with_DeepZ.genes.txt'),\n",
        "            col.names = TRUE, row.names = FALSE, sep = '\\t', quote = FALSE)\n",
        "\n",
        "uniq_genes_df <- unique(anno_df['symbol'])\n",
        "write.table(uniq_genes_df, file=paste0(DATA_DIR, 'H3K9me3_H9.intersect_with_DeepZ.genes_uniq.txt'),\n",
        "            col.names = FALSE, row.names = FALSE, sep = '\\t', quote = FALSE)\n"
      ],
      "execution_count": 125,
      "outputs": [
        {
          "output_type": "stream",
          "text": [
            "R[write to console]: duplicated or NA names found. Rename all the names by numbers.\n",
            "\n",
            "R[write to console]:   403 genes were dropped because they have exons located on both strands\n",
            "  of the same reference sequence or on more than one reference sequence,\n",
            "  so cannot be represented by a single genomic range.\n",
            "  Use 'single.strand.genes.only=FALSE' to get all the genes in a\n",
            "  GRangesList object, or use suppressMessages() to suppress this message.\n",
            "\n",
            "R[write to console]: Annotate peaks by annoPeaks, see ?annoPeaks for details.\n",
            "\n",
            "R[write to console]: maxgap will be ignored.\n",
            "\n"
          ],
          "name": "stderr"
        }
      ]
    },
    {
      "cell_type": "code",
      "metadata": {
        "id": "c7aV7BRke8IM"
      },
      "source": [
        ""
      ],
      "execution_count": null,
      "outputs": []
    }
  ]
}